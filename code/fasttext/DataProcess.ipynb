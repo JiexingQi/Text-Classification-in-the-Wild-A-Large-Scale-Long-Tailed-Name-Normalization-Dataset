{
 "cells": [
  {
   "cell_type": "code",
   "execution_count": null,
   "metadata": {},
   "outputs": [],
   "source": [
    "#将label映射成数字并且添上__label__\n",
    "from tqdm import tqdm_notebook as tqdm\n",
    "import pickle\n",
    "\n",
    "labels = set()\n",
    "featuresAndLabels = []\n",
    "with open('/home/datamerge/ACL/Data/210422/train/train_part.txt',encoding = 'utf-8') as file:\n",
    "    lines = file.readlines()\n",
    "    for line in tqdm(lines):\n",
    "        words = line.split('\\t\\t',1)\n",
    "        words[1] = words[1].replace('\\n','')\n",
    "        featuresAndLabels.append([words[0],words[1]])\n",
    "        labels.add(words[1])     #读入标签和特征"
   ]
  },
  {
   "cell_type": "code",
   "execution_count": null,
   "metadata": {},
   "outputs": [],
   "source": [
    "with open('/home/datamerge/ACL/Data/210422/train/train.txt',encoding = 'utf-8') as file:\n",
    "    lines = file.readlines()\n",
    "    print(len(lines))"
   ]
  },
  {
   "cell_type": "code",
   "execution_count": null,
   "metadata": {},
   "outputs": [],
   "source": [
    "print(featuresAndLabels[0])\n",
    "print(featuresAndLabels[1])\n",
    "print(featuresAndLabels[2])\n",
    "print(featuresAndLabels[3])\n",
    "print(featuresAndLabels[4])\n",
    "print(featuresAndLabels[5])\n",
    "print(featuresAndLabels[9])"
   ]
  },
  {
   "cell_type": "code",
   "execution_count": null,
   "metadata": {},
   "outputs": [],
   "source": [
    "labels = list(labels)\n",
    "label2num = {}\n",
    "num2label = {}\n",
    "for i in range(len(labels)):\n",
    "    label2num[labels[i]] = i\n",
    "    num2label[i] = labels[i]\n",
    "pickle.dump(label2num,open(\"/home/dawei_yu/IODP_Project/label2num.pkl\",'wb'))\n",
    "pickle.dump(num2label,open(\"/home/dawei_yu/IODP_Project/num2label.pkl\",'wb'))  #做标签数字映射并写入文件"
   ]
  },
  {
   "cell_type": "code",
   "execution_count": null,
   "metadata": {},
   "outputs": [],
   "source": [
    "print(labels[0])\n",
    "print(labels[1])\n",
    "print(labels[2])\n",
    "print(num2label[12389])\n",
    "print(num2label[4962])\n",
    "print(num2label[2])\n",
    "print(label2num['scottish church college'])\n",
    "print(label2num['lawrence berkeley national laboratory'])\n",
    "print(label2num['university of california berkeley'])"
   ]
  },
  {
   "cell_type": "code",
   "execution_count": null,
   "metadata": {},
   "outputs": [],
   "source": [
    "f1 = open('newtrain.txt','w')\n",
    "for t in tqdm(featuresAndLabels):\n",
    "        f1.write(t[0])\n",
    "        f1.write('\\t')\n",
    "        f1.write(\"__label__\")\n",
    "        f1.write(str(label2num[t[1]]))    \n",
    "        f1.write('\\n')   ##将新格式的训练数据写入文件\n",
    "f1.close()"
   ]
  },
  {
   "cell_type": "code",
   "execution_count": null,
   "metadata": {},
   "outputs": [],
   "source": [
    "with open('newtrain.txt',encoding = 'utf-8') as file:\n",
    "    line = file.readline()\n",
    "    print(line)\n",
    "    line = file.readline()\n",
    "    print(line)"
   ]
  },
  {
   "cell_type": "code",
   "execution_count": null,
   "metadata": {},
   "outputs": [],
   "source": []
  },
  {
   "cell_type": "code",
   "execution_count": null,
   "metadata": {},
   "outputs": [],
   "source": [
    "from tqdm import tqdm_notebook as tqdm\n",
    "import pickle\n",
    "label2num = pickle.load(open(\"/home/dawei_yu/IODP_Project/label2num.pkl\", 'rb'))\n",
    "label2num.__contains__('emory university hospital')"
   ]
  },
  {
   "cell_type": "code",
   "execution_count": null,
   "metadata": {},
   "outputs": [],
   "source": [
    "f = open('newvalid.txt','w')\n",
    "with open('/home/datamerge/ACL/Data/210422/dev/dev.txt',encoding = 'utf-8') as file:\n",
    "    lines = file.readlines()\n",
    "    for line in tqdm(lines):\n",
    "        words = line.split('\\t\\t',1)\n",
    "        words[1] = words[1].replace('\\n','')\n",
    "        if(label2num.__contains__(words[1])):\n",
    "            f.write(words[0])\n",
    "            f.write('\\t')\n",
    "            f.write(\"__label__\")\n",
    "            f.write(str(label2num[words[1]]))\n",
    "            f.write('\\n')\n",
    "f.close()"
   ]
  },
  {
   "cell_type": "code",
   "execution_count": null,
   "metadata": {},
   "outputs": [],
   "source": [
    "f = open('newtest.txt','w')\n",
    "with open('/home/datamerge/ACL/Data/210422/test/test.txt',encoding = 'utf-8') as file:\n",
    "    lines = file.readlines()\n",
    "    for line in tqdm(lines):\n",
    "        words = line.split('\\t\\t',1)\n",
    "        words[1] = words[1].replace('\\n','')\n",
    "        if(label2num.__contains__(words[1])):\n",
    "            f.write(words[0])\n",
    "            f.write('\\t')\n",
    "            f.write(\"__label__\")\n",
    "            f.write(str(label2num[words[1]]))\n",
    "            f.write('\\n')\n",
    "f.close()"
   ]
  },
  {
   "cell_type": "code",
   "execution_count": null,
   "metadata": {},
   "outputs": [],
   "source": []
  },
  {
   "cell_type": "code",
   "execution_count": null,
   "metadata": {},
   "outputs": [],
   "source": [
    "with open('newtest.txt',encoding = 'utf-8') as file:\n",
    "    lines = file.readlines()\n",
    "    for line in lines:\n",
    "        print(line)"
   ]
  },
  {
   "cell_type": "code",
   "execution_count": null,
   "metadata": {},
   "outputs": [],
   "source": []
  }
 ],
 "metadata": {
  "kernelspec": {
   "display_name": "Python 3",
   "language": "python",
   "name": "python3"
  },
  "language_info": {
   "codemirror_mode": {
    "name": "ipython",
    "version": 3
   },
   "file_extension": ".py",
   "mimetype": "text/x-python",
   "name": "python",
   "nbconvert_exporter": "python",
   "pygments_lexer": "ipython3",
   "version": "3.7.2"
  }
 },
 "nbformat": 4,
 "nbformat_minor": 2
}
