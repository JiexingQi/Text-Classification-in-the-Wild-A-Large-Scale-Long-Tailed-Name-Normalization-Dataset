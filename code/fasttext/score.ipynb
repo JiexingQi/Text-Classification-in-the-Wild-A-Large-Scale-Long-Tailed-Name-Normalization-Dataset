{
 "cells": [
  {
   "cell_type": "code",
   "execution_count": 1,
   "metadata": {},
   "outputs": [
    {
     "name": "stderr",
     "output_type": "stream",
     "text": [
      "Warning : `load_model` does not return WordVectorModel or SupervisedModel any more, but a `FastText` object which is very similar.\n"
     ]
    }
   ],
   "source": [
    "import fasttext\n",
    "from tqdm import tqdm_notebook as tqdm\n",
    "import pickle\n",
    "model = fasttext.load_model(\"/home/dawei_yu/IODP_Project/fasttextFinal.bin\")"
   ]
  },
  {
   "cell_type": "code",
   "execution_count": 2,
   "metadata": {},
   "outputs": [
    {
     "name": "stdout",
     "output_type": "stream",
     "text": [
      "university of california berkeley\n"
     ]
    }
   ],
   "source": [
    "#it is test\n",
    "nor2len = pickle.load(open(\"/home/datamerge/ACL/Data/210422/pkl/210422_nor2len_dict.pkl\", 'rb'))\n",
    "num2nor = pickle.load(open(\"/home/dawei_yu/IODP_Project/num2label.pkl\", 'rb'))\n",
    "t =num2nor[10253]\n",
    "print(t)"
   ]
  },
  {
   "cell_type": "code",
   "execution_count": 2,
   "metadata": {},
   "outputs": [],
   "source": [
    "nor2len = pickle.load(open(\"/home/datamerge/ACL/Data/210422/pkl/210422_nor2len_dict.pkl\", 'rb'))\n",
    "num2nor = pickle.load(open(\"/home/dawei_yu/IODP_Project/num2label.pkl\", 'rb'))\n",
    "def get_diff(h2m, m2l, real_result,predict_result):\n",
    "    real_h= []\n",
    "    real_m= []\n",
    "    real_l= []\n",
    "    predict_h = []\n",
    "    predict_m = []\n",
    "    predict_l = []\n",
    "    for i in range(len(real_result)):\n",
    "        t = num2nor[real_result[i]]\n",
    "        if nor2len[t] < m2l:\n",
    "            real_l.append(real_result[i])\n",
    "            predict_l.append(predict_result[i])\n",
    "        elif nor2len[t] <= h2m:\n",
    "            real_m.append(real_result[i])\n",
    "            predict_m.append(predict_result[i])\n",
    "        else:\n",
    "            real_h.append(real_result[i])\n",
    "            predict_h.append(predict_result[i])\n",
    "    return real_h,real_m,real_l,predict_h,predict_m,predict_l"
   ]
  },
  {
   "cell_type": "code",
   "execution_count": 3,
   "metadata": {},
   "outputs": [],
   "source": [
    "from sklearn.metrics import f1_score, accuracy_score, precision_score, recall_score\n",
    "def getscore(path):\n",
    "    r_label=[]\n",
    "    predict=[]\n",
    "    with open(path,encoding = 'utf-8') as file:\n",
    "        lines = file.readlines()\n",
    "        for line in tqdm(lines):\n",
    "            words = line.split('\\t',1)\n",
    "            result = model.predict(words[0])\n",
    "            predict.append(int(result[0][0][9:]))\n",
    "            words[1] = words[1].replace('\\n','').replace('__label__','')\n",
    "            r_label.append(int(words[1]))\n",
    "    label_h,label_m,label_l,predict_h,predict_m,predict_l = get_diff(20,5,r_label,predict)\n",
    "    return [accuracy_score(r_label, predict),accuracy_score(label_h, predict_h),accuracy_score(label_m, predict_m),accuracy_score(label_l, predict_l)],[precision_score(r_label, predict,average='macro'),precision_score(label_h, predict_h,average='macro'),precision_score(label_m, predict_m,average='macro'),precision_score(label_l, predict_l,average='macro')],[recall_score(r_label, predict,average='macro'),recall_score(label_h, predict_h,average='macro'),recall_score(label_m, predict_m,average='macro'),recall_score(label_l, predict_l,average='macro')],[f1_score(r_label, predict,average='macro'),f1_score(label_h, predict_h,average='macro'),f1_score(label_m, predict_m,average='macro'),f1_score(label_l, predict_l,average='macro')]"
   ]
  },
  {
   "cell_type": "code",
   "execution_count": 4,
   "metadata": {},
   "outputs": [
    {
     "name": "stderr",
     "output_type": "stream",
     "text": [
      "/home/dawei_yu/anaconda3/lib/python3.7/site-packages/ipykernel_launcher.py:7: TqdmDeprecationWarning: This function will be removed in tqdm==5.0.0\n",
      "Please use `tqdm.notebook.tqdm` instead of `tqdm.tqdm_notebook`\n",
      "  import sys\n"
     ]
    },
    {
     "data": {
      "application/vnd.jupyter.widget-view+json": {
       "model_id": "10af8ce27f50488e985c1a7e4495fb81",
       "version_major": 2,
       "version_minor": 0
      },
      "text/plain": [
       "  0%|          | 0/54439 [00:00<?, ?it/s]"
      ]
     },
     "metadata": {},
     "output_type": "display_data"
    },
    {
     "name": "stderr",
     "output_type": "stream",
     "text": [
      "/home/dawei_yu/anaconda3/lib/python3.7/site-packages/sklearn/metrics/classification.py:1135: UndefinedMetricWarning: Precision is ill-defined and being set to 0.0 in labels with no predicted samples.\n",
      "  'precision', 'predicted', average, warn_for)\n",
      "/home/dawei_yu/anaconda3/lib/python3.7/site-packages/sklearn/metrics/classification.py:1137: UndefinedMetricWarning: Recall is ill-defined and being set to 0.0 in labels with no true samples.\n",
      "  'recall', 'true', average, warn_for)\n",
      "/home/dawei_yu/anaconda3/lib/python3.7/site-packages/sklearn/metrics/classification.py:1135: UndefinedMetricWarning: F-score is ill-defined and being set to 0.0 in labels with no predicted samples.\n",
      "  'precision', 'predicted', average, warn_for)\n",
      "/home/dawei_yu/anaconda3/lib/python3.7/site-packages/sklearn/metrics/classification.py:1137: UndefinedMetricWarning: F-score is ill-defined and being set to 0.0 in labels with no true samples.\n",
      "  'recall', 'true', average, warn_for)\n"
     ]
    }
   ],
   "source": [
    "a1,p1,r1,f1 = getscore('/home/dawei_yu/IODP_Project/newvalid.txt')"
   ]
  },
  {
   "cell_type": "code",
   "execution_count": 5,
   "metadata": {
    "scrolled": true
   },
   "outputs": [
    {
     "name": "stdout",
     "output_type": "stream",
     "text": [
      "valid:\n",
      "accuary:0.7603923657671889\n",
      "precision:0.39140651307381863\n",
      "recall:0.440458672360238\n",
      "f1:0.40451544426984365\n",
      "\n",
      "accuary:0.8597766813814594\n",
      "precision:0.7101990574742575\n",
      "recall:0.7190004802012148\n",
      "f1:0.7038343065143438\n",
      "\n",
      "accuary:0.293354943273906\n",
      "precision:0.21136780344701137\n",
      "recall:0.2187156215621562\n",
      "f1:0.2129066478076379\n",
      "\n",
      "accuary:0.012715033657442034\n",
      "precision:0.00771889400921659\n",
      "recall:0.00783410138248848\n",
      "f1:0.007757296466973886\n",
      "\n"
     ]
    }
   ],
   "source": [
    "print('valid:')\n",
    "for a,p,r,f in zip(a1,p1,r1,f1):\n",
    "    print('accuary:'+str(a))\n",
    "    print('precision:'+str(p))\n",
    "    print('recall:'+str(r))\n",
    "    print('f1:'+str(f))\n",
    "    print()"
   ]
  },
  {
   "cell_type": "code",
   "execution_count": 6,
   "metadata": {},
   "outputs": [
    {
     "name": "stderr",
     "output_type": "stream",
     "text": [
      "/home/dawei_yu/anaconda3/lib/python3.7/site-packages/ipykernel_launcher.py:7: TqdmDeprecationWarning: This function will be removed in tqdm==5.0.0\n",
      "Please use `tqdm.notebook.tqdm` instead of `tqdm.tqdm_notebook`\n",
      "  import sys\n"
     ]
    },
    {
     "data": {
      "application/vnd.jupyter.widget-view+json": {
       "model_id": "884e8e5f4ca64750946e77f15c81ea41",
       "version_major": 2,
       "version_minor": 0
      },
      "text/plain": [
       "  0%|          | 0/58154 [00:00<?, ?it/s]"
      ]
     },
     "metadata": {},
     "output_type": "display_data"
    },
    {
     "name": "stderr",
     "output_type": "stream",
     "text": [
      "/home/dawei_yu/anaconda3/lib/python3.7/site-packages/sklearn/metrics/classification.py:1135: UndefinedMetricWarning: Precision is ill-defined and being set to 0.0 in labels with no predicted samples.\n",
      "  'precision', 'predicted', average, warn_for)\n",
      "/home/dawei_yu/anaconda3/lib/python3.7/site-packages/sklearn/metrics/classification.py:1137: UndefinedMetricWarning: Recall is ill-defined and being set to 0.0 in labels with no true samples.\n",
      "  'recall', 'true', average, warn_for)\n",
      "/home/dawei_yu/anaconda3/lib/python3.7/site-packages/sklearn/metrics/classification.py:1135: UndefinedMetricWarning: F-score is ill-defined and being set to 0.0 in labels with no predicted samples.\n",
      "  'precision', 'predicted', average, warn_for)\n",
      "/home/dawei_yu/anaconda3/lib/python3.7/site-packages/sklearn/metrics/classification.py:1137: UndefinedMetricWarning: F-score is ill-defined and being set to 0.0 in labels with no true samples.\n",
      "  'recall', 'true', average, warn_for)\n"
     ]
    }
   ],
   "source": [
    "a2,p2,r2,f2 = getscore('/home/dawei_yu/IODP_Project/newtest.txt')"
   ]
  },
  {
   "cell_type": "code",
   "execution_count": 7,
   "metadata": {},
   "outputs": [
    {
     "name": "stdout",
     "output_type": "stream",
     "text": [
      "test:\n",
      "accuary:0.7278948997489425\n",
      "precision:0.3166165146645684\n",
      "recall:0.37255855771439406\n",
      "f1:0.332253759810129\n",
      "\n",
      "accuary:0.8623205310372617\n",
      "precision:0.7131627796834531\n",
      "recall:0.7206364797632222\n",
      "f1:0.7069379044345144\n",
      "\n",
      "accuary:0.2929201945595388\n",
      "precision:0.20871824744152048\n",
      "recall:0.2180190058479532\n",
      "f1:0.21102996205792257\n",
      "\n",
      "accuary:0.007889908256880735\n",
      "precision:0.005208333333333333\n",
      "recall:0.005269607843137255\n",
      "f1:0.00522875816993464\n",
      "\n"
     ]
    }
   ],
   "source": [
    "print('test:')\n",
    "for a,p,r,f in zip(a2,p2,r2,f2):\n",
    "    print('accuary:'+str(a))\n",
    "    print('precision:'+str(p))\n",
    "    print('recall:'+str(r))\n",
    "    print('f1:'+str(f))\n",
    "    print()"
   ]
  },
  {
   "cell_type": "code",
   "execution_count": null,
   "metadata": {},
   "outputs": [],
   "source": []
  }
 ],
 "metadata": {
  "kernelspec": {
   "display_name": "Python 3",
   "language": "python",
   "name": "python3"
  },
  "language_info": {
   "codemirror_mode": {
    "name": "ipython",
    "version": 3
   },
   "file_extension": ".py",
   "mimetype": "text/x-python",
   "name": "python",
   "nbconvert_exporter": "python",
   "pygments_lexer": "ipython3",
   "version": "3.7.2"
  }
 },
 "nbformat": 4,
 "nbformat_minor": 2
}
